{
 "cells": [
  {
   "cell_type": "markdown",
   "metadata": {},
   "source": [
    "There are 4 key Phases to this Project:\n",
    "\n",
    "1. Scrape cooking recipe information from the Betty Crocker Data (/data/receipe.txt) and create a list of objects where the objects are the receipes\n",
    "2. Search Function\n",
    "3. LLM + RAG Support\n",
    "4. Actions\n",
    "\n",
    "Phase 1: Scrape and Clean Data\n",
    "In this phase the objective is to convert the recipe book text into a list of dictionaries, each representing information about a single recipe. The dictionaries must have the following keys:\n",
    "\n",
    "`title`: Name of the recipe\n",
    "\n",
    "`ingredients`: String of ingredients separated by newline characters\n",
    "\n",
    "`instructions`: String of text explaining how to prepare the recipe\n",
    "\n",
    "`serving_size`: Number of portions or people this can serve\n",
    "\n",
    "`notes`: Any additional information in the recipe that doesn't fit the above\n",
    "\n",
    "Other details:\n",
    "-  There are largely 3 parts to this receipe: 1. Basic Baking, Independent Receipe (i.e. receipe that doesn't depend/is contingent on making other receipes), Dependent Receipe \n",
    "\n",
    "-  Recipe titles should always be uppercase\n",
    "\n",
    "-  Some recipes do not have an ingredient list, e.g. Hush Puppies. The ingredients are actually in the first sentence of the instructions. *Hint*: you can identify these recipes based on the verb used at the beginning of the sentence.\n",
    "\n",
    "- Some recipes actually do not have ingredients at all. Instead, they begin with instructions to first make another basic recipe, e.g. Chicken Griddlecakes. In such cases, simply leave ingredients as an empty string.\n",
    "\n",
    "- Serving sizes are often represented as ranges, e.g. Waffles Supper Royal makes \"6 to 8 servings\", and should be stored in your dictionary as a list, [6,8] in this case. If the recipe gives a single number, then simply repeat it, e.g. Celery Crescents says it \"makes 16\" so the `serving_size` should be [16,16]. If no serving size is given in the recipe, e.g. Batter Fried Shrimp, then set it to [0,0]."
   ]
  },
  {
   "cell_type": "markdown",
   "metadata": {},
   "source": [
    "#Example\n",
    "\n",
    "The Cheese Bread recipe has the following text in the recipe book:\n",
    "\n",
    ">CHEESE BREAD\n",
    ">\n",
    "> _Wonderful warm, sliced ½″ thick._\n",
    ">\n",
    ">1 egg, beaten\n",
    ">\n",
    ">1½ cups milk\n",
    ">\n",
    ">3¾ cups Bisquick\n",
    ">\n",
    ">¾ cup grated sharp cheese\n",
    ">\n",
    ">Heat oven to 350° (mod.). Blend all together. Beat 30 seconds, until well blended. Pour into well greased, waxed paper-lined 9x5x2½″ loaf pan. Bake 1 hr. When serving cold, slice thin.\n",
    ">\n",
    ">\n",
    "\n",
    "The resulting dictionary would look like this:"
   ]
  },
  {
   "cell_type": "code",
   "execution_count": 14,
   "metadata": {},
   "outputs": [
    {
     "data": {
      "text/plain": [
       "{'title': 'CHEESE BREAD',\n",
       " 'ingredients': '1 egg, beaten\\n1½ cups milk\\n3¾ cups Bisquick\\n¾ cup grated sharp cheese',\n",
       " 'instructions': 'Heat oven to 350° (mod.). Blend all together. Beat 30 seconds, until well blended. Pour into well greased, waxed paper-lined 9x5x2½″ loaf pan. Bake 1 hr. When serving cold, slice thin.',\n",
       " 'notes': 'Wonderful warm, sliced ½″ thick.',\n",
       " 'serving_size': [0, 0]}"
      ]
     },
     "execution_count": 14,
     "metadata": {},
     "output_type": "execute_result"
    }
   ],
   "source": [
    "{'title': 'CHEESE BREAD',\n",
    "'ingredients': '1 egg, beaten\\n1½ cups milk\\n3¾ cups Bisquick\\n¾ cup grated sharp cheese',\n",
    "'instructions': 'Heat oven to 350° (mod.). Blend all together. Beat 30 seconds, until well blended. Pour into well greased, waxed paper-lined 9x5x2½″ loaf pan. Bake 1 hr. When serving cold, slice thin.',\n",
    "'notes': 'Wonderful warm, sliced ½″ thick.',\n",
    "'serving_size': [0, 0]}"
   ]
  },
  {
   "cell_type": "code",
   "execution_count": 32,
   "metadata": {},
   "outputs": [],
   "source": [
    "from tqdm import tqdm\n",
    "from langchain_ollama import ChatOllama\n",
    "import json"
   ]
  },
  {
   "cell_type": "code",
   "execution_count": null,
   "metadata": {},
   "outputs": [
    {
     "name": "stdout",
     "output_type": "stream",
     "text": [
      "Loaded Mistral 7B via Ollama using LangChain\n"
     ]
    }
   ],
   "source": [
    "class RecipeExtractionLLM():\n",
    "    def __init__(self):\n",
    "        self.llm = ChatOllama(\n",
    "            model=\"mistral:latest\",\n",
    "            temperature=0.0\n",
    "        )\n",
    "        print(\"Loaded Mistral 7B via Ollama using LangChain\")\n",
    "\n",
    "    def is_recipe_start(self, text: str) -> bool:\n",
    "        prompt = (\n",
    "            \"### Instruction:\\n\"\n",
    "            \"Determine if the following line is the START of a recipe title in a cookbook.\\n\"\n",
    "            \"Respond only with YES or NO.\\n\\n\"\n",
    "            f\"### Input:\\n{text}\\n\\n### Response:\"\n",
    "        )\n",
    "        response = self.llm.invoke(prompt)\n",
    "        return response.content.strip().upper().startswith(\"YES\")\n",
    "    \n",
    "    def create_recipe_object(self, text_block: str) -> dict:\n",
    "        prompt = (\n",
    "            \"### Instruction:\\n\"\n",
    "            \"Extract the recipe information from the following text block. \"\n",
    "            \"Return a JSON object with the following keys: 'title', 'ingredients', 'instructions', \"\n",
    "            \"'notes', and 'serving_size'.\\n\"\n",
    "            \"- The title should be the name of the recipe and MUST be in uppercase.\\n\"\n",
    "            \"- Ingredients MUST be in a string with each ingredient on its own line.\\n\"\n",
    "            \"- Instructions MUST be a string with full preparation steps.\\n\"\n",
    "            \"- Notes should include any extra details or comments (e.g., italicized comments or serving tips).\\n\"\n",
    "            \"- Serving size should be a list of 2 integers like [6, 8] where each of the values represent [min_serving_size, max_serving_size], or [0, 0] if unspecified.\\n\"\n",
    "            \"- DO NOT make up or hallucinate ingredients, notes, or steps that are not present in the input.\\n\\n\"\n",
    "            f\"### Input:\\n{text_block.strip()}\\n\\n### Response:\"\n",
    "        )\n",
    "        # print(\"Running create_receipe_object...\")\n",
    "        response = self.llm.invoke(prompt)\n",
    "\n",
    "        try:\n",
    "            return json.loads(response.content.strip())\n",
    "        except json.JSONDecodeError:\n",
    "            print(\"⚠️ Failed to parse LLM response, raw output below:\")\n",
    "            # print(response.content)\n",
    "            return {}        \n",
    "\n",
    "receipe_extractor = RecipeExtractionLLM()"
   ]
  },
  {
   "cell_type": "code",
   "execution_count": null,
   "metadata": {},
   "outputs": [
    {
     "name": "stderr",
     "output_type": "stream",
     "text": [
      "Processing lines:   0%|          | 1/239 [00:00<03:16,  1.21it/s]"
     ]
    },
    {
     "name": "stdout",
     "output_type": "stream",
     "text": [
      "Line - [Illustration: PANCAKES] is a Receipe!\n"
     ]
    },
    {
     "name": "stderr",
     "output_type": "stream",
     "text": [
      "Processing lines:   3%|▎         | 6/239 [00:02<01:26,  2.70it/s]"
     ]
    },
    {
     "name": "stdout",
     "output_type": "stream",
     "text": [
      "Line - [Illustration: MUFFINS] is a Receipe!\n"
     ]
    },
    {
     "name": "stderr",
     "output_type": "stream",
     "text": [
      "Processing lines:   4%|▍         | 10/239 [00:08<03:41,  1.04it/s]"
     ]
    },
    {
     "name": "stdout",
     "output_type": "stream",
     "text": [
      "Line - milk, 2 cups Bisquick. Then beat vigorously 30 seconds. _For richer is a Receipe!\n"
     ]
    },
    {
     "name": "stderr",
     "output_type": "stream",
     "text": [
      "Processing lines:   5%|▌         | 13/239 [00:14<05:39,  1.50s/it]"
     ]
    },
    {
     "name": "stdout",
     "output_type": "stream",
     "text": [
      "Line - [Illustration: WAFFLES] is a Receipe!\n"
     ]
    },
    {
     "name": "stderr",
     "output_type": "stream",
     "text": [
      "Processing lines:   8%|▊         | 19/239 [00:21<03:16,  1.12it/s]"
     ]
    },
    {
     "name": "stdout",
     "output_type": "stream",
     "text": [
      "Line - [Illustration: COFFEE CAKE] is a Receipe!\n"
     ]
    },
    {
     "name": "stderr",
     "output_type": "stream",
     "text": [
      "Processing lines:  11%|█         | 26/239 [00:28<02:30,  1.42it/s]"
     ]
    },
    {
     "name": "stdout",
     "output_type": "stream",
     "text": [
      "Line - [Illustration: DUMPLINGS] is a Receipe!\n"
     ]
    },
    {
     "name": "stderr",
     "output_type": "stream",
     "text": [
      "Processing lines:  13%|█▎        | 32/239 [00:35<02:43,  1.27it/s]"
     ]
    },
    {
     "name": "stdout",
     "output_type": "stream",
     "text": [
      "Line - HOW TO MAKE GOOD BISCUITS is a Receipe!\n"
     ]
    },
    {
     "name": "stderr",
     "output_type": "stream",
     "text": [
      "Processing lines:  27%|██▋       | 64/239 [00:48<00:49,  3.53it/s]"
     ]
    },
    {
     "name": "stdout",
     "output_type": "stream",
     "text": [
      "Line - [Illustration: FRUIT SHORTCAKE] is a Receipe!\n"
     ]
    },
    {
     "name": "stderr",
     "output_type": "stream",
     "text": [
      "Processing lines:  29%|██▉       | 70/239 [00:58<02:52,  1.02s/it]"
     ]
    },
    {
     "name": "stdout",
     "output_type": "stream",
     "text": [
      "Line - _What’s for Dinner?_ is a Receipe!\n"
     ]
    },
    {
     "name": "stderr",
     "output_type": "stream",
     "text": [
      "Processing lines:  31%|███▏      | 75/239 [01:03<02:33,  1.07it/s]"
     ]
    },
    {
     "name": "stdout",
     "output_type": "stream",
     "text": [
      "Line - HOT BREADS is a Receipe!\n"
     ]
    },
    {
     "name": "stderr",
     "output_type": "stream",
     "text": [
      "Processing lines:  34%|███▍      | 82/239 [01:16<03:20,  1.28s/it]"
     ]
    },
    {
     "name": "stdout",
     "output_type": "stream",
     "text": [
      "Line - _Betty Crocker_ is a Receipe!\n"
     ]
    },
    {
     "name": "stderr",
     "output_type": "stream",
     "text": [
      "Processing lines:  35%|███▍      | 83/239 [01:20<04:11,  1.61s/it]"
     ]
    },
    {
     "name": "stdout",
     "output_type": "stream",
     "text": [
      "Line - DINNER BISCUITS is a Receipe!\n"
     ]
    },
    {
     "name": "stderr",
     "output_type": "stream",
     "text": [
      "Processing lines:  36%|███▌      | 86/239 [01:45<10:52,  4.26s/it]"
     ]
    },
    {
     "name": "stdout",
     "output_type": "stream",
     "text": [
      "⚠️ Failed to parse LLM response, raw output below:\n"
     ]
    },
    {
     "name": "stderr",
     "output_type": "stream",
     "text": [
      "Processing lines:  38%|███▊      | 91/239 [01:46<05:15,  2.13s/it]"
     ]
    },
    {
     "name": "stdout",
     "output_type": "stream",
     "text": [
      "Line - [Illustration: HERB BISCUITS] is a Receipe!\n"
     ]
    },
    {
     "name": "stderr",
     "output_type": "stream",
     "text": [
      "Processing lines:  40%|████      | 96/239 [01:51<02:57,  1.24s/it]"
     ]
    },
    {
     "name": "stdout",
     "output_type": "stream",
     "text": [
      "Line - [Illustration: CHEESE BREAD] is a Receipe!\n"
     ]
    },
    {
     "name": "stderr",
     "output_type": "stream",
     "text": [
      "Processing lines:  41%|████      | 98/239 [01:56<03:49,  1.63s/it]"
     ]
    },
    {
     "name": "stdout",
     "output_type": "stream",
     "text": [
      "⚠️ Failed to parse LLM response, raw output below:\n"
     ]
    },
    {
     "name": "stderr",
     "output_type": "stream",
     "text": [
      "Processing lines:  46%|████▌     | 109/239 [01:58<00:46,  2.77it/s]"
     ]
    },
    {
     "name": "stdout",
     "output_type": "stream",
     "text": [
      "Line - CRANBERRY MUFFINS is a Receipe!\n"
     ]
    },
    {
     "name": "stderr",
     "output_type": "stream",
     "text": [
      "Processing lines:  49%|████▊     | 116/239 [02:06<01:54,  1.07it/s]"
     ]
    },
    {
     "name": "stdout",
     "output_type": "stream",
     "text": [
      "Line - BUTTERMILK BISCUITS is a Receipe!\n"
     ]
    },
    {
     "name": "stderr",
     "output_type": "stream",
     "text": [
      "Processing lines:  50%|████▉     | 119/239 [02:11<02:36,  1.30s/it]"
     ]
    },
    {
     "name": "stdout",
     "output_type": "stream",
     "text": [
      "Line - Make Biscuits (p. 3)—except use ¾ cup buttermilk for liquid. is a Receipe!\n"
     ]
    },
    {
     "name": "stderr",
     "output_type": "stream",
     "text": [
      "Processing lines:  51%|█████     | 121/239 [02:19<04:15,  2.16s/it]"
     ]
    },
    {
     "name": "stdout",
     "output_type": "stream",
     "text": [
      "Line - [Illustration: CORN STICKS OR MUFFINS] is a Receipe!\n"
     ]
    },
    {
     "name": "stderr",
     "output_type": "stream",
     "text": [
      "Processing lines:  53%|█████▎    | 127/239 [02:29<03:01,  1.62s/it]"
     ]
    },
    {
     "name": "stdout",
     "output_type": "stream",
     "text": [
      "Line - SO NICE TO COME HOME TO is a Receipe!\n"
     ]
    },
    {
     "name": "stderr",
     "output_type": "stream",
     "text": [
      "Processing lines:  54%|█████▍    | 130/239 [02:34<03:00,  1.66s/it]"
     ]
    },
    {
     "name": "stdout",
     "output_type": "stream",
     "text": [
      "Line - Old-fashioned Beef Stew is a Receipe!\n"
     ]
    },
    {
     "name": "stderr",
     "output_type": "stream",
     "text": [
      "Processing lines:  55%|█████▌    | 132/239 [02:42<04:11,  2.35s/it]"
     ]
    },
    {
     "name": "stdout",
     "output_type": "stream",
     "text": [
      "Line - Hot Biscuits (p. 3) is a Receipe!\n"
     ]
    },
    {
     "name": "stderr",
     "output_type": "stream",
     "text": [
      "Processing lines:  56%|█████▌    | 134/239 [02:56<06:07,  3.50s/it]"
     ]
    },
    {
     "name": "stdout",
     "output_type": "stream",
     "text": [
      "Line - Cabbage-Radish Slaw is a Receipe!\n"
     ]
    },
    {
     "name": "stderr",
     "output_type": "stream",
     "text": [
      "Processing lines:  56%|█████▋    | 135/239 [03:03<07:36,  4.39s/it]"
     ]
    },
    {
     "name": "stdout",
     "output_type": "stream",
     "text": [
      "Line - Pineapple Upside-down Cake (p. 18) is a Receipe!\n"
     ]
    },
    {
     "name": "stderr",
     "output_type": "stream",
     "text": [
      "Processing lines:  57%|█████▋    | 136/239 [03:08<07:52,  4.59s/it]"
     ]
    },
    {
     "name": "stdout",
     "output_type": "stream",
     "text": [
      "Line - BUTTER STICKS is a Receipe!\n"
     ]
    },
    {
     "name": "stderr",
     "output_type": "stream",
     "text": [
      "Processing lines:  62%|██████▏   | 148/239 [03:25<01:07,  1.35it/s]"
     ]
    },
    {
     "name": "stdout",
     "output_type": "stream",
     "text": [
      "Line - QUICK PARKERHOUSE ROLLS is a Receipe!\n"
     ]
    },
    {
     "name": "stderr",
     "output_type": "stream",
     "text": [
      "Processing lines:  70%|██████▉   | 167/239 [03:35<00:22,  3.17it/s]"
     ]
    },
    {
     "name": "stdout",
     "output_type": "stream",
     "text": [
      "Line - _Betty Crocker_ is a Receipe!\n"
     ]
    },
    {
     "name": "stderr",
     "output_type": "stream",
     "text": [
      "Processing lines:  70%|███████   | 168/239 [03:40<01:04,  1.10it/s]"
     ]
    },
    {
     "name": "stdout",
     "output_type": "stream",
     "text": [
      "Line - CHICKEN POT PIE is a Receipe!\n"
     ]
    },
    {
     "name": "stderr",
     "output_type": "stream",
     "text": [
      "Processing lines:  72%|███████▏  | 171/239 [04:05<03:47,  3.34s/it]"
     ]
    },
    {
     "name": "stdout",
     "output_type": "stream",
     "text": [
      "⚠️ Failed to parse LLM response, raw output below:\n"
     ]
    },
    {
     "name": "stderr",
     "output_type": "stream",
     "text": [
      "Processing lines:  77%|███████▋  | 185/239 [04:11<00:47,  1.15it/s]"
     ]
    },
    {
     "name": "stdout",
     "output_type": "stream",
     "text": [
      "Line - DOUBLE CHICKEN POT PIE is a Receipe!\n"
     ]
    },
    {
     "name": "stderr",
     "output_type": "stream",
     "text": [
      "Processing lines:  80%|███████▉  | 191/239 [04:20<00:53,  1.11s/it]"
     ]
    },
    {
     "name": "stdout",
     "output_type": "stream",
     "text": [
      "Line - [Illustration: FAVORITE PORK AND DUMPLINGS] is a Receipe!\n"
     ]
    },
    {
     "name": "stderr",
     "output_type": "stream",
     "text": [
      "Processing lines:  86%|████████▌ | 205/239 [04:28<00:12,  2.72it/s]"
     ]
    },
    {
     "name": "stdout",
     "output_type": "stream",
     "text": [
      "Line - [Illustration: SALMON RABBIT PIE] is a Receipe!\n"
     ]
    },
    {
     "name": "stderr",
     "output_type": "stream",
     "text": [
      "Processing lines:  92%|█████████▏| 221/239 [04:39<00:03,  4.90it/s]"
     ]
    },
    {
     "name": "stdout",
     "output_type": "stream",
     "text": [
      "Line - [Illustration: CORN AND SHRIMP CASSEROLE] is a Receipe!\n"
     ]
    },
    {
     "name": "stderr",
     "output_type": "stream",
     "text": [
      "Processing lines: 100%|██████████| 239/239 [04:52<00:00,  1.22s/it]\n"
     ]
    }
   ],
   "source": [
    "# There should be a language model that \n",
    "all_receipes = [] # where the recipe objects will be stored\n",
    "\n",
    "with open(\"../data/receipe.txt\", \"r\", encoding=\"utf-8\") as f:\n",
    "    lines = [line for i, line in enumerate(f, start=1) if 48 <= i <= 1817]\n",
    "    curr_receipe = \"\"\n",
    "\n",
    "    for line in tqdm(lines, desc=\"Processing lines\"):\n",
    "        if line.strip() == \"\": continue\n",
    "\n",
    "        is_receipe = receipe_extractor.is_recipe_start(line)\n",
    "        \n",
    "        if is_receipe:\n",
    "            print(f\"Line - {line.strip()} is a Receipe!\")\n",
    "            if curr_receipe.strip() != \"\":\n",
    "                receipe = receipe_extractor.create_recipe_object(curr_receipe)\n",
    "\n",
    "                if receipe: all_receipes.append(receipe)\n",
    "            curr_receipe = line.strip()\n",
    "        else:\n",
    "            curr_receipe += line\n",
    "\n",
    "    if curr_receipe.strip() != \"\":\n",
    "        receipe = receipe_extractor.create_recipe_object(curr_receipe)\n",
    "\n",
    "        if receipe: all_receipes.append(receipe)\n",
    "\n"
   ]
  },
  {
   "cell_type": "code",
   "execution_count": 36,
   "metadata": {},
   "outputs": [
    {
     "data": {
      "text/plain": [
       "[{'title': 'PANCAKES',\n",
       "  'ingredients': '2 cups Bisquick\\n1 egg\\n1 ⅔ cups milk',\n",
       "  'instructions': 'Beat the ingredients (2 cups Bisquick, 1 egg, 1 ⅔ cups milk) with a rotary beater until well blended.\\nPour batter onto a heated griddle.\\nTurn pancakes when bubbles appear.',\n",
       "  'notes': '_Makes about 18 4\" pancakes. For thinner pancakes use 2 cups milk._',\n",
       "  'serving_size': [18, 4]},\n",
       " {'title': 'MUFFINS',\n",
       "  'ingredients': ['2 tablespoons of sugar', '1 egg', '3/4 cup'],\n",
       "  'instructions': 'Heat oven to 400° (mod. hot). Blend together the ingredients.',\n",
       "  'notes': '',\n",
       "  'serving_size': [0, 0]},\n",
       " {'title': 'BISQUICK MUFFINS',\n",
       "  'ingredients': ['milk, 2 cups', 'Bisquick'],\n",
       "  'instructions': 'Beat vigorously for 30 seconds.\\nFill 12 well greased muffin cups ⅔ full.\\nBake for 15 minutes.',\n",
       "  'notes': '_For richer batter_, add 2 tbsp. more sugar, 2 tbsp. melted shortening or salad oil.',\n",
       "  'serving_size': [0, 0]},\n",
       " {'title': 'WAFFLES',\n",
       "  'ingredients': '2 cups Bisquick\\n1 ⅔ cups milk\\n1 egg\\n2 tbsp. salad oil or melted shortening',\n",
       "  'instructions': 'Beat the ingredients with a rotary beater until well blended.\\nSpoon onto hot waffle baker.',\n",
       "  'notes': '_Makes 2 large or 6 small._',\n",
       "  'serving_size': [6, 0]},\n",
       " {'title': 'COFFEE CAKE',\n",
       "  'ingredients': ['Muffin batter',\n",
       "   '2 tsp. cinnamon',\n",
       "   '¼ cup sugar',\n",
       "   '2 tbsp. Bisquick',\n",
       "   '2 tbsp. soft butter'],\n",
       "  'instructions': 'Make Muffin batter. Spread into greased 9\" round layer pan or 8 or 9\" square pan. Sprinkle with mixture of: 2 tsp. cinnamon, ¼ cup sugar, 2 tbsp. Bisquick, 2 tbsp. soft butter. Blend with fork until crumbly. Bake _20 to 25 min._',\n",
       "  'notes': '',\n",
       "  'serving_size': [0, 0]},\n",
       " {'title': 'DUMPLINGS',\n",
       "  'ingredients': '2 cups Bisquick\\n¾ cup milk',\n",
       "  'instructions': 'Mix the ingredients (2 cups Bisquick and ¾ cup milk) well with a fork. Drop tablespoonfuls gently onto boiling stew. Cook over low heat for 10 minutes, uncovered, then cover and cook for another 10 minutes. Let the stew bubble gently.',\n",
       "  'notes': '_Makes 10 to 12._',\n",
       "  'serving_size': [10, 12]},\n",
       " {'title': 'GOOD BISCUITS',\n",
       "  'ingredients': '⅔ cup milk\\n2 cups Bisquick',\n",
       "  'instructions': '1. Add all the milk to 2 cups of Bisquick and stir with a fork into a soft dough.\\n2. Beat the dough for 15 strokes.\\n3. Roll the dough around on a cloth-covered board lightly dusted with Bisquick to prevent sticking.\\n4. Knead gently 8 to 10 times to smooth up the dough.\\n5. Roll the dough ½\" thick.\\n6. Dip the cutter in Bisquick and cut the biscuits close together to save rerolling.\\n7. Bake on an ungreased shiny baking sheet for 10 to 15 minutes.\\n8. Place the biscuits close together for soft sides, or 1\" apart for crusty sides.',\n",
       "  'notes': '',\n",
       "  'serving_size': [12, 2]},\n",
       " {'title': 'FRUIT SHORTCAKE',\n",
       "  'ingredients': ['¾ cup cream (or ½ cup milk plus ¼ cup melted butter)',\n",
       "   '2 cups Bisquick',\n",
       "   '2 tbsp. sugar, if desired'],\n",
       "  'instructions': 'Proceed as for biscuits except cut into six 3\" shortcakes.',\n",
       "  'notes': '',\n",
       "  'serving_size': [6, 0]},\n",
       " {'title': '_WHAT’S FOR DINNER?',\n",
       "  'ingredients': '_3 boneless, skinless chicken breasts\\n1 can (14 ounces) black beans, drained and rinsed\\n1 cup corn (frozen is fine)\\n1 red bell pepper, chopped\\n1 yellow bell pepper, chopped\\n1 small onion, diced\\n2 cloves garlic, minced\\n1 tablespoon olive oil\\n1 teaspoon ground cumin\\n1 teaspoon chili powder\\nSalt and pepper to taste\\n1 cup shredded Mexican cheese blend (optional)\\nTortilla chips for serving_',\n",
       "  'instructions': '_Preheat oven to 400°F. Spray a baking dish with cooking spray. In a large skillet, heat oil over medium-high heat. Add onion, bell peppers, and garlic; cook until softened, about 5 minutes. Stir in cumin, chili powder, salt, and pepper. Add chicken breasts to the skillet and cook for 4-5 minutes per side or until cooked through. Transfer the chicken to the prepared baking dish. Top with black beans, corn, and cheese (if using). Cover with foil and bake for 10-12 minutes or until heated through. Serve with tortilla chips._',\n",
       "  'notes': \"_This recipe is easily adaptable to your taste preferences. You can add more spices, omit the cheese, or use different types of peppers. It's also a great meal prep option as it reheats well._\",\n",
       "  'serving_size': '[6, 8]'},\n",
       " {'title': 'HOT BREADS',\n",
       "  'ingredients': 'Hot Breads\\n(Ingredients not specified in the text)',\n",
       "  'instructions': 'How to be Famous at Home—serve tender fragrant hot breads with your dinner.',\n",
       "  'notes': '',\n",
       "  'serving_size': [0, 0]},\n",
       " {'title': 'DINNER BISCUITS',\n",
       "  'ingredients': ['¼ cup soft butter or shortening', '3 tbsp. salad oil'],\n",
       "  'instructions': 'Add ¼ cup soft butter or shortening or 3 tbsp. salad oil to Bisquick before mixing.',\n",
       "  'notes': '',\n",
       "  'serving_size': [0, 0]},\n",
       " {'title': 'CHEESE BREAD',\n",
       "  'ingredients': ['1 egg, beaten',\n",
       "   '1 ½ cups milk',\n",
       "   '3 ¾ cups Bisquick',\n",
       "   '¾ cup grated sharp cheese'],\n",
       "  'instructions': 'Heat oven to 350° (mod.). Blend all together. Beat 30 seconds, until well blended. Pour into well greased, waxed paper-lined 9x5x2½\" loaf pan. Bake 1 hr.',\n",
       "  'notes': '',\n",
       "  'serving_size': [6, 8]},\n",
       " {'title': 'CRANBERRY MUFFINS',\n",
       "  'ingredients': ['¾ cup raw cranberries (cut in halves or quarters)',\n",
       "   '½ cup confectioners’ sugar',\n",
       "   'Muffin batter'],\n",
       "  'instructions': 'Mix ¾ cup raw cranberries (cut in halves or quarters) and ½ cup confectioners’ sugar. Let stand ½ to 1 hr. Then fold into Muffin batter (p. 2). Bake.',\n",
       "  'notes': '',\n",
       "  'serving_size': [0, 0]},\n",
       " {'title': 'BUTTERMILK BISCUITS',\n",
       "  'ingredients': '4 cups all-purpose flour\\n1 tablespoon baking powder\\n2 teaspoons sugar\\n1 1/2 teaspoons salt\\n1 cup unsalted butter, cold and cubed\\n1 1/2 cups buttermilk\\n',\n",
       "  'instructions': 'Preheat oven to 450°F (232°C). In a large bowl, combine flour, baking powder, sugar, and salt. Cut in the butter until mixture resembles coarse crumbs. Stir in buttermilk just until moistened. Turn dough out onto a lightly floured surface; knead gently 5-6 times. Roll dough to 1/2-inch thickness. Cut with a floured 2 1/2-inch round cutter. Place on ungreased baking sheets. Bake for 10-12 minutes or until golden brown.',\n",
       "  'notes': '',\n",
       "  'serving_size': [6, 8]},\n",
       " {'title': 'MAKE BISCUITS',\n",
       "  'ingredients': '¼ cup butter\\n2 cups all-purpose flour\\n1 tablespoon baking powder\\n½ teaspoon salt\\n¾ cup buttermilk',\n",
       "  'instructions': 'Preheat oven to 450°F. Cut butter into flour mixture until crumbly. Add baking powder, salt, and buttermilk; stir just until moistened. Turn dough out onto a lightly floured surface; knead lightly 10 times. Roll dough to ½-inch thickness; cut with a floured 2-inch biscuit cutter. Place on a baking sheet coated with cooking spray. Bake at 450°F for 12 minutes or until golden brown.',\n",
       "  'notes': '',\n",
       "  'serving_size': [6, 8]},\n",
       " {'title': 'CORN STICKS OR MUFFINS',\n",
       "  'ingredients': ['Muffin batter (recipe on page 2)', '¾ cup corn meal'],\n",
       "  'instructions': 'Heat oven to 450° (hot). Make Muffin batter (p. 2)—except substitute ¾ cup corn meal for ¾ cup Bisquick. Bake 15 min. in greased muffin or corn stick pans.',\n",
       "  'notes': '',\n",
       "  'serving_size': [0, 0]},\n",
       " {'title': 'SO Nice to Come Home To',\n",
       "  'ingredients': '1. Chicken breast\\n2. Mushrooms\\n3. Onion\\n4. Garlic\\n5. Olive oil\\n6. Salt\\n7. Pepper\\n8. White wine\\n9. Heavy cream',\n",
       "  'instructions': '1. Season the chicken breast with salt and pepper.\\n2. Heat olive oil in a pan and cook the chicken until browned on both sides.\\n3. Remove the chicken from the pan and set aside.\\n4. In the same pan, sauté the sliced mushrooms, onion, and minced garlic until softened.\\n5. Deglaze the pan with white wine and let it reduce slightly.\\n6. Return the chicken to the pan and pour in heavy cream.\\n7. Simmer until the chicken is cooked through and the sauce has thickened.',\n",
       "  'notes': 'Serve over rice or pasta if desired.',\n",
       "  'serving_size': [6, 8]},\n",
       " {'title': 'OLD-FASHIONED BEEF STEW',\n",
       "  'ingredients': '3 pounds beef chuck, cut into 2-inch cubes\\n4 cups all-purpose flour\\nKosher salt and freshly ground black pepper\\n1/2 cup vegetable oil\\n6 carrots, peeled and sliced\\n6 celery stalks, sliced\\n1 large onion, chopped\\n3 garlic cloves, minced\\n4 cups beef broth\\n2 (14.5-ounce) cans diced tomatoes\\n2 bay leaves\\n1 tablespoon Worcestershire sauce\\n1 teaspoon dried thyme\\n1 pound small white or brown potatoes, quartered\\n2 pounds parsnips, peeled and cut into 2-inch pieces',\n",
       "  'instructions': 'Season the beef with salt and pepper. Dredge in flour. In a large pot or Dutch oven, heat oil over medium-high heat. Working in batches, brown the beef on all sides, about 8 minutes per batch. Remove from pot; set aside. Add carrots, celery, onion, and garlic to pot; cook until softened, 5 minutes. Return beef to pot; add broth, tomatoes with their juice, bay leaves, Worcestershire sauce, thyme, 2 teaspoons salt, and 1 teaspoon pepper. Bring to a boil; reduce heat to low. Cover and simmer until beef is tender, about 2 hours. Add potatoes and parsnips; cook until vegetables are tender, about 30 minutes more.',\n",
       "  'notes': 'Serve with crusty bread or over mashed potatoes.\\nCan be made ahead. Cool slightly; refrigerate up to 3 days. Rewarm over low heat before serving.',\n",
       "  'serving_size': [6, 8]},\n",
       " {'title': 'HOT BISCUITS',\n",
       "  'ingredients': '4 cups all-purpose flour\\n2 tablespoons baking powder\\n1 teaspoon salt\\n1/3 cup shortening\\n1 2/3 cups milk\\n',\n",
       "  'instructions': 'Preheat oven to 450°F (230°C). In a large bowl, combine flour, baking powder, and salt. Cut in shortening until mixture resembles coarse crumbs. Stir in milk just until dry ingredients are moistened. Turn onto a lightly floured surface; knead 10 times. Roll out to 3/4-inch thickness. Cut with a floured 2-inch biscuit cutter. Place on ungreased baking sheets. Bake at 450°F (230°C) for 10-12 minutes or until golden brown.',\n",
       "  'notes': '',\n",
       "  'serving_size': [6, 8]},\n",
       " {'title': 'CABBAGE-RADISH SLAW',\n",
       "  'ingredients': '1. Cabbage\\n2. Radishes\\n3. Mayonnaise\\n4. Lemon juice\\n5. Salt\\n6. Pepper',\n",
       "  'instructions': '1. Shred the cabbage and radishes.\\n2. In a separate bowl, mix mayonnaise, lemon juice, salt, and pepper to taste.\\n3. Combine the shredded vegetables with the dressing and toss until evenly coated.',\n",
       "  'notes': '',\n",
       "  'serving_size': [6, 8]},\n",
       " {'title': 'PINEAPPLE UPSIDE-DOWN CAKE',\n",
       "  'ingredients': '1 cup brown sugar\\n6 tablespoons butter or margarine, melted\\n1 can (20 oz.) pineapple slices\\n1 maraschino cherry per slice\\n1 1/4 cups all-purpose flour\\n1 1/2 teaspoons baking powder\\n1/2 teaspoon salt\\n1/2 cup butter or margarine, softened\\n3/4 cup granulated sugar\\n2 eggs\\n1 teaspoon vanilla extract\\n1/2 cup milk\\n',\n",
       "  'instructions': '1. Preheat oven to 350°F (175°C).\\n2. In a 9-inch square pan, combine brown sugar and melted butter; spread evenly over bottom of pan.\\n3. Arrange pineapple slices on top of sugar mixture. Place one cherry in center of each pineapple slice.\\n4. In a medium bowl, stir together flour, baking powder and salt; set aside.\\n5. In a large bowl, beat 1/2 cup butter with granulated sugar until light and fluffy.\\n6. Beat in eggs, one at a time, then stir in vanilla extract.\\n7. Gradually add flour mixture alternately with milk, beginning and ending with the flour mixture.\\n8. Spread batter evenly over pineapple slices.\\n9. Bake for 40 to 45 minutes or until a toothpick inserted in center comes out clean.\\n10. Let cool for 5 minutes. Run a knife around edge of pan; invert cake onto serving plate.\\n',\n",
       "  'notes': 'Serve with whipped cream if desired.',\n",
       "  'serving_size': [6, 8]},\n",
       " {'title': 'BUTTER STICKS',\n",
       "  'ingredients': 'Biscuit dough\\n⅓ cup butter',\n",
       "  'instructions': 'Roll biscuit dough into a 10x6\" rectangle. Cut in half lengthwise and then cut each half into 12 strips. Melt ⅓ cup butter; pour half of it into a 13x9½x2\" oblong pan. Place the strips in the pan. Pour remaining butter over the tops. Bake.',\n",
       "  'notes': '_Neat Trick:_ Make same as Butter Sticks—_except_ cut in squares, triangles, rounds. Or use your cooky cutters and have fun.',\n",
       "  'serving_size': [0, 0]},\n",
       " {'title': 'QUICK PARKERHOUSE ROLLS',\n",
       "  'ingredients': ['Biscuit dough'],\n",
       "  'instructions': ['Roll ¼\" thick.',\n",
       "   'Cut with 2½\" cutter.',\n",
       "   'Butter lightly and fold in half.',\n",
       "   'Place close together in ungreased round layer pan or square pan.',\n",
       "   '_Bake 10 min._'],\n",
       "  'notes': ['Look like rolls—taste like biscuits.'],\n",
       "  'serving_size': [0, 0]},\n",
       " {'title': 'CHICKEN Pot Pie',\n",
       "  'ingredients': ['¼ cup chicken fat or butter',\n",
       "   '¼ cup Bisquick',\n",
       "   '1½ tsp. salt',\n",
       "   '¼ tsp. pepper',\n",
       "   '2 cups chicken stock',\n",
       "   '⅔ cup cream',\n",
       "   '3 to 4 cups chicken (large pieces)'],\n",
       "  'instructions': ['Heat oven to 450° (hot).',\n",
       "   'Heat chicken fat; blend in Bisquick, salt, pepper.',\n",
       "   'Take from heat.',\n",
       "   'Stir in chicken stock, cream, chicken.',\n",
       "   'Bring to boil; boil 1 min., stirring constantly.',\n",
       "   'Pour into oblong baking dish.',\n",
       "   'Cover with Chicken or Meat Pie topping (p. 6).',\n",
       "   'Bake _15 min._'],\n",
       "  'notes': '_4 to 6 servings._',\n",
       "  'serving_size': [4, 6]},\n",
       " {'title': 'DOUBLE CHICKEN POT PIE',\n",
       "  'ingredients': 'Chicken Fat\\nBisquick',\n",
       "  'instructions': 'Multiply the chicken flavor by adding 3 to 4 tbsp. of chicken fat to Bisquick when making topping.',\n",
       "  'notes': '',\n",
       "  'serving_size': [0, 0]},\n",
       " {'title': 'FAVORITE PORK AND DUMPLINGS',\n",
       "  'ingredients': ['6 pork steaks or chops',\n",
       "   '1 med. onion, thinly sliced',\n",
       "   '¼ cup water',\n",
       "   '1½ to 3 cups water'],\n",
       "  'instructions': 'Brown meat in deep skillet or heavy kettle. Season with salt and pepper; add onion and water. Cover skillet; simmer until meat is tender (40 to 50 min.). Add 1½ to 3 cups water. Make Dumplings (p. 2). Drop dumplings on top of hot mixture. Cook. Thicken liquid with Bisquick for gravy. Season.',\n",
       "  'notes': '_6 servings._ _Color Note_: Add ¼ cup chopped parsley or chives to dumplings.',\n",
       "  'serving_size': [6, 8]},\n",
       " {'title': 'SALMON RABBIT PIE',\n",
       "  'ingredients': ['1-lb. can salmon, drained, boned, and flaked',\n",
       "   '1 cup cooked peas (8-oz. can), drained',\n",
       "   '2 tbsp. finely chopped green pepper',\n",
       "   '1 cup grated cheese (¼ lb.)',\n",
       "   '½ cup milk',\n",
       "   '2 tbsp. mayonnaise',\n",
       "   '⅓ cup milk',\n",
       "   '1 cup Bisquick'],\n",
       "  'instructions': ['Heat oven to 450° (hot).',\n",
       "   'Mix salmon, peas, green pepper; spread in greased 10x6” baking dish.',\n",
       "   'Blend cheese, ½ cup milk; pour over salmon.',\n",
       "   'Mix mayonnaise, ⅓ cup milk, Bisquick with fork. Drop with spoon on salmon mixture.',\n",
       "   'Bake 10 to 15 min., until browned.'],\n",
       "  'notes': '_6 servings._',\n",
       "  'serving_size': [6, 8]},\n",
       " {'title': 'CORN AND SHRIMP CASSEROLE',\n",
       "  'ingredients': ['⅓ cup chopped green pepper',\n",
       "   '2 tbsp. finely chopped onion',\n",
       "   '2 tbsp. fat',\n",
       "   '2 tbsp. Bisquick',\n",
       "   '1 tsp. salt',\n",
       "   '¼ tsp. pepper',\n",
       "   '2 cups cream-style corn (no. 303 can)',\n",
       "   '1 egg, slightly beaten',\n",
       "   '1½ cups cleaned raw or cooked shrimp'],\n",
       "  'instructions': ['Heat oven to 450° (hot.)',\n",
       "   'Sauté green pepper and onion in hot fat.',\n",
       "   'Blend in Bisquick, salt, pepper.',\n",
       "   'Add corn.',\n",
       "   'Stir until mixture boils.',\n",
       "   'Take from heat; gradually stir mixture into egg.',\n",
       "   'Add shrimp; pour into greased 1½-qt. baking dish.',\n",
       "   'Cover with Meat Pie topping (p. 6).',\n",
       "   'Bake for 15 min.'],\n",
       "  'notes': ['_4 to 6 servings._'],\n",
       "  'serving_size': [4, 6]}]"
      ]
     },
     "execution_count": 36,
     "metadata": {},
     "output_type": "execute_result"
    }
   ],
   "source": [
    "basic_recipes"
   ]
  },
  {
   "cell_type": "code",
   "execution_count": null,
   "metadata": {},
   "outputs": [],
   "source": []
  }
 ],
 "metadata": {
  "kernelspec": {
   "display_name": "base",
   "language": "python",
   "name": "python3"
  },
  "language_info": {
   "codemirror_mode": {
    "name": "ipython",
    "version": 3
   },
   "file_extension": ".py",
   "mimetype": "text/x-python",
   "name": "python",
   "nbconvert_exporter": "python",
   "pygments_lexer": "ipython3",
   "version": "3.11.9"
  }
 },
 "nbformat": 4,
 "nbformat_minor": 2
}
